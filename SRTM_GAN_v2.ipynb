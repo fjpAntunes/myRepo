{
  "nbformat": 4,
  "nbformat_minor": 0,
  "metadata": {
    "colab": {
      "name": "SRTM- GAN-v2",
      "version": "0.3.2",
      "provenance": []
    },
    "kernelspec": {
      "name": "python3",
      "display_name": "Python 3"
    },
    "accelerator": "GPU"
  },
  "cells": [
    {
      "cell_type": "code",
      "metadata": {
        "colab_type": "code",
        "id": "3d4mCjJV_D5u",
        "colab": {}
      },
      "source": [
        "import fastai\n",
        "from fastai.vision import *\n",
        "from fastai.callbacks import *\n",
        "from fastai.vision.gan import *\n",
        "from google.colab import files\n",
        "import os,shutil\n",
        "from PIL import Image\n",
        "import numpy\n",
        "import torchvision\n",
        "from google.colab import drive\n",
        "from pathlib import Path\n"
      ],
      "execution_count": 0,
      "outputs": []
    },
    {
      "cell_type": "markdown",
      "metadata": {
        "id": "wKIdTxCxUGrl",
        "colab_type": "text"
      },
      "source": [
        "# Modifying ResNet"
      ]
    },
    {
      "cell_type": "code",
      "metadata": {
        "id": "thxTLFvKE5S3",
        "colab_type": "code",
        "colab": {}
      },
      "source": [
        "import torch.nn as nn\n",
        "import math\n",
        "import torch.utils.model_zoo as model_zoo\n",
        "\n",
        "\n",
        "__all__ = ['ResNet', 'resnet18', 'resnet34', 'resnet50', 'resnet101',\n",
        "           'resnet152']\n",
        "\n",
        "\n",
        "model_urls = {\n",
        "    'resnet18': 'https://download.pytorch.org/models/resnet18-5c106cde.pth',\n",
        "    'resnet34': 'https://download.pytorch.org/models/resnet34-333f7ec4.pth',\n",
        "    'resnet50': 'https://download.pytorch.org/models/resnet50-19c8e357.pth',\n",
        "    'resnet101': 'https://download.pytorch.org/models/resnet101-5d3b4d8f.pth',\n",
        "    'resnet152': 'https://download.pytorch.org/models/resnet152-b121ed2d.pth',\n",
        "}\n",
        "\n",
        "\n",
        "def conv3x3(in_planes, out_planes, stride=1):\n",
        "    \"\"\"3x3 convolution with padding\"\"\"\n",
        "    return nn.Conv2d(in_planes, out_planes, kernel_size=3, stride=stride,\n",
        "                     padding=1, bias=False)\n",
        "\n",
        "\n",
        "class BasicBlock(nn.Module):\n",
        "    expansion = 1\n",
        "\n",
        "    def __init__(self, inplanes, planes, stride=1, downsample=None):\n",
        "        super(BasicBlock, self).__init__()\n",
        "        self.conv1 = conv3x3(inplanes, planes, stride)\n",
        "        self.bn1 = nn.BatchNorm2d(planes)\n",
        "        self.relu = nn.ReLU(inplace=True)\n",
        "        self.conv2 = conv3x3(planes, planes)\n",
        "        self.bn2 = nn.BatchNorm2d(planes)\n",
        "        self.downsample = downsample\n",
        "        self.stride = stride\n",
        "\n",
        "    def forward(self, x):\n",
        "        residual = x\n",
        "\n",
        "        out = self.conv1(x)\n",
        "        out = self.bn1(out)\n",
        "        out = self.relu(out)\n",
        "\n",
        "        out = self.conv2(out)\n",
        "        out = self.bn2(out)\n",
        "\n",
        "        if self.downsample is not None:\n",
        "            residual = self.downsample(x)\n",
        "\n",
        "        out += residual\n",
        "        out = self.relu(out)\n",
        "\n",
        "        return out\n",
        "\n",
        "\n",
        "class Bottleneck(nn.Module):\n",
        "    expansion = 4\n",
        "\n",
        "    def __init__(self, inplanes, planes, stride=1, downsample=None):\n",
        "        super(Bottleneck, self).__init__()\n",
        "        self.conv1 = nn.Conv2d(inplanes, planes, kernel_size=1, bias=False)\n",
        "        self.bn1 = nn.BatchNorm2d(planes)\n",
        "        self.conv2 = nn.Conv2d(planes, planes, kernel_size=3, stride=stride,\n",
        "                               padding=1, bias=False)\n",
        "        self.bn2 = nn.BatchNorm2d(planes)\n",
        "        self.conv3 = nn.Conv2d(planes, planes * 4, kernel_size=1, bias=False)\n",
        "        self.bn3 = nn.BatchNorm2d(planes * 4)\n",
        "        self.relu = nn.ReLU(inplace=True)\n",
        "        self.downsample = downsample\n",
        "        self.stride = stride\n",
        "\n",
        "    def forward(self, x):\n",
        "        residual = x\n",
        "\n",
        "        out = self.conv1(x)\n",
        "        out = self.bn1(out)\n",
        "        out = self.relu(out)\n",
        "\n",
        "        out = self.conv2(out)\n",
        "        out = self.bn2(out)\n",
        "        out = self.relu(out)\n",
        "\n",
        "        out = self.conv3(out)\n",
        "        out = self.bn3(out)\n",
        "\n",
        "        if self.downsample is not None:\n",
        "            residual = self.downsample(x)\n",
        "\n",
        "        out += residual\n",
        "        out = self.relu(out)\n",
        "\n",
        "        return out\n",
        "\n",
        "\n",
        "class ResNet(nn.Module):\n",
        "\n",
        "    def __init__(self, block, layers, num_classes=1000):\n",
        "        self.inplanes = 64\n",
        "        super(ResNet, self).__init__()\n",
        "        self.conv1 = nn.Conv2d(1, 64, kernel_size=7, stride=2, padding=3,\n",
        "                               bias=False)\n",
        "        self.bn1 = nn.BatchNorm2d(64)\n",
        "        self.relu = nn.ReLU(inplace=True)\n",
        "        self.maxpool = nn.MaxPool2d(kernel_size=3, stride=2, padding=1)\n",
        "        self.layer1 = self._make_layer(block, 64, layers[0])\n",
        "        self.layer2 = self._make_layer(block, 128, layers[1], stride=2)\n",
        "        self.layer3 = self._make_layer(block, 256, layers[2], stride=2)\n",
        "        self.layer4 = self._make_layer(block, 512, layers[3], stride=2)\n",
        "        self.avgpool = nn.AvgPool2d(7, stride=1)\n",
        "        self.fc = nn.Linear(512 * block.expansion, num_classes)\n",
        "\n",
        "        for m in self.modules():\n",
        "            if isinstance(m, nn.Conv2d):\n",
        "                n = m.kernel_size[0] * m.kernel_size[1] * m.out_channels\n",
        "                m.weight.data.normal_(0, math.sqrt(2. / n))\n",
        "            elif isinstance(m, nn.BatchNorm2d):\n",
        "                m.weight.data.fill_(1)\n",
        "                m.bias.data.zero_()\n",
        "\n",
        "    def _make_layer(self, block, planes, blocks, stride=1):\n",
        "        downsample = None\n",
        "        if stride != 1 or self.inplanes != planes * block.expansion:\n",
        "            downsample = nn.Sequential(\n",
        "                nn.Conv2d(self.inplanes, planes * block.expansion,\n",
        "                          kernel_size=1, stride=stride, bias=False),\n",
        "                nn.BatchNorm2d(planes * block.expansion),\n",
        "            )\n",
        "\n",
        "        layers = []\n",
        "        layers.append(block(self.inplanes, planes, stride, downsample))\n",
        "        self.inplanes = planes * block.expansion\n",
        "        for i in range(1, blocks):\n",
        "            layers.append(block(self.inplanes, planes))\n",
        "\n",
        "        return nn.Sequential(*layers)\n",
        "\n",
        "    def forward(self, x):\n",
        "        x = self.conv1(x)\n",
        "        x = self.bn1(x)\n",
        "        x = self.relu(x)\n",
        "        x = self.maxpool(x)\n",
        "\n",
        "        x = self.layer1(x)\n",
        "        x = self.layer2(x)\n",
        "        x = self.layer3(x)\n",
        "        x = self.layer4(x)\n",
        "\n",
        "        x = self.avgpool(x)\n",
        "        x = x.view(x.size(0), -1)\n",
        "        x = self.fc(x)\n",
        "\n",
        "        return x\n",
        "\n",
        "\n",
        "\n",
        "\n",
        "def resnet34(pretrained=False, **kwargs):\n",
        "    \"\"\"Constructs a ResNet-34 model.\n",
        "\n",
        "    Args:\n",
        "        pretrained (bool): If True, returns a model pre-trained on ImageNet\n",
        "    \"\"\"\n",
        "    model = ResNet(BasicBlock, [3, 4, 6, 3], **kwargs)\n",
        "    if pretrained:\n",
        "        model.load_state_dict(model_zoo.load_url(model_urls['resnet34']))\n",
        "    return model\n",
        "\n",
        "\n"
      ],
      "execution_count": 0,
      "outputs": []
    },
    {
      "cell_type": "markdown",
      "metadata": {
        "id": "PtV38HIGULI2",
        "colab_type": "text"
      },
      "source": [
        "# Importing Data From Drive"
      ]
    },
    {
      "cell_type": "code",
      "metadata": {
        "id": "2sA27pCyACRd",
        "colab_type": "code",
        "outputId": "d2cf855c-729d-4927-beed-38ae16eafd92",
        "colab": {
          "base_uri": "https://localhost:8080/",
          "height": 131
        }
      },
      "source": [
        "\n",
        "drive.mount('/content/gdrive/')\n"
      ],
      "execution_count": 0,
      "outputs": [
        {
          "output_type": "stream",
          "text": [
            "Go to this URL in a browser: https://accounts.google.com/o/oauth2/auth?client_id=947318989803-6bn6qk8qdgf4n4g3pfee6491hc0brc4i.apps.googleusercontent.com&redirect_uri=urn%3Aietf%3Awg%3Aoauth%3A2.0%3Aoob&scope=email%20https%3A%2F%2Fwww.googleapis.com%2Fauth%2Fdocs.test%20https%3A%2F%2Fwww.googleapis.com%2Fauth%2Fdrive%20https%3A%2F%2Fwww.googleapis.com%2Fauth%2Fdrive.photos.readonly%20https%3A%2F%2Fwww.googleapis.com%2Fauth%2Fpeopleapi.readonly&response_type=code\n",
            "\n",
            "Enter your authorization code:\n",
            "··········\n",
            "Mounted at /content/gdrive/\n"
          ],
          "name": "stdout"
        }
      ]
    },
    {
      "cell_type": "code",
      "metadata": {
        "id": "8r_NJ6sWq7R5",
        "colab_type": "code",
        "colab": {}
      },
      "source": [
        "gdrive_path = Path('/content/gdrive/My Drive/Datasets')"
      ],
      "execution_count": 0,
      "outputs": []
    },
    {
      "cell_type": "code",
      "metadata": {
        "id": "BttAzzbr51_9",
        "colab_type": "code",
        "colab": {}
      },
      "source": [
        "try:\n",
        "    os.mkdir('data')\n",
        "finally:\n",
        "    os.chdir('data')\n",
        "try:  \n",
        "    os.mkdir('image')\n",
        "    os.mkdir('crappy')\n",
        "finally:\n",
        "    path = Path(os.getcwd())\n",
        "    path_hr = path/'image'\n",
        "    path_lr = path/'crappy'"
      ],
      "execution_count": 0,
      "outputs": []
    },
    {
      "cell_type": "code",
      "metadata": {
        "id": "YImaMEeHaAMR",
        "colab_type": "code",
        "outputId": "b4498bcd-fa9b-4b67-f2ce-25fb31f0136f",
        "colab": {
          "base_uri": "https://localhost:8080/",
          "height": 36
        }
      },
      "source": [
        "os.listdir(path_hr) == []"
      ],
      "execution_count": 0,
      "outputs": [
        {
          "output_type": "execute_result",
          "data": {
            "text/plain": [
              "True"
            ]
          },
          "metadata": {
            "tags": []
          },
          "execution_count": 6
        }
      ]
    },
    {
      "cell_type": "code",
      "metadata": {
        "id": "HtFrXSJtZNH_",
        "colab_type": "code",
        "colab": {}
      },
      "source": [
        "#importing sample\n",
        "if os.listdir(path_hr) == []:\n",
        "    for i in range(len(os.listdir(gdrive_path/'images_I32bits'))):\n",
        "        shutil.copy(gdrive_path/'images_I32bits'/(os.listdir(gdrive_path/'images_I32bits')[i]),path_hr)\n",
        "        shutil.copy(gdrive_path/'crappy_I32bits'/(os.listdir(gdrive_path/'crappy_I32bits')[i]),path_lr)\n",
        "    "
      ],
      "execution_count": 0,
      "outputs": []
    },
    {
      "cell_type": "code",
      "metadata": {
        "id": "saG9u0zWrtTN",
        "colab_type": "code",
        "colab": {}
      },
      "source": [
        ""
      ],
      "execution_count": 0,
      "outputs": []
    },
    {
      "cell_type": "code",
      "metadata": {
        "id": "GC2EqHJLsCxr",
        "colab_type": "code",
        "colab": {}
      },
      "source": [
        "for i in range(len(os.listdir(path_lr))):\n",
        "  im = PIL.Image.open(path_lr/os.listdir(path_lr)[i])\n",
        "  im = im.resize((100,100))\n",
        "  im.save(path_lr/os.listdir(path_lr)[i])"
      ],
      "execution_count": 0,
      "outputs": []
    },
    {
      "cell_type": "code",
      "metadata": {
        "id": "0UrNN-QzvWDo",
        "colab_type": "code",
        "colab": {}
      },
      "source": [
        "\n",
        "im = PIL.Image.open(path_lr.ls()[0])\n",
        "im.size"
      ],
      "execution_count": 0,
      "outputs": []
    },
    {
      "cell_type": "markdown",
      "metadata": {
        "id": "5rMX5PZrUXnF",
        "colab_type": "text"
      },
      "source": [
        "# Generator Model"
      ]
    },
    {
      "cell_type": "code",
      "metadata": {
        "id": "Mk9Feu1CAsck",
        "colab_type": "code",
        "colab": {}
      },
      "source": [
        "bs,size = 15,100\n"
      ],
      "execution_count": 0,
      "outputs": []
    },
    {
      "cell_type": "markdown",
      "metadata": {
        "id": "1bm3UKnCByV_",
        "colab_type": "text"
      },
      "source": [
        "Inputing x"
      ]
    },
    {
      "cell_type": "code",
      "metadata": {
        "id": "dyIZ6RdRA5Y4",
        "colab_type": "code",
        "colab": {}
      },
      "source": [
        "\n",
        "src = ImageImageList.from_folder(path_lr, convert_mode = 'I').random_split_by_pct(0.1, seed = 42)"
      ],
      "execution_count": 0,
      "outputs": []
    },
    {
      "cell_type": "markdown",
      "metadata": {
        "id": "vfATR02xB17R",
        "colab_type": "text"
      },
      "source": [
        "Inputing y"
      ]
    },
    {
      "cell_type": "code",
      "metadata": {
        "id": "UEhPQjo-BuaO",
        "colab_type": "code",
        "colab": {}
      },
      "source": [
        "def get_data(bs,size):\n",
        "  data = src.label_from_func(lambda x : path_lr/x.name, convert_mode = 'I')\n",
        "  data = data.transform(get_transforms(max_zoom = 2.), size = size, tfm_y = True)\n",
        "  data= data.databunch(bs=bs).normalize(do_y = True)\n",
        "  data.c = 1\n",
        "  return data"
      ],
      "execution_count": 0,
      "outputs": []
    },
    {
      "cell_type": "code",
      "metadata": {
        "id": "38Ko5paiDg7r",
        "colab_type": "code",
        "colab": {}
      },
      "source": [
        "data_gen = get_data(bs,size)"
      ],
      "execution_count": 0,
      "outputs": []
    },
    {
      "cell_type": "code",
      "metadata": {
        "id": "rI4EW0wNDs7V",
        "colab_type": "code",
        "colab": {}
      },
      "source": [
        "data_gen.show_batch"
      ],
      "execution_count": 0,
      "outputs": []
    },
    {
      "cell_type": "code",
      "metadata": {
        "id": "GTTxdeGeFisU",
        "colab_type": "code",
        "colab": {}
      },
      "source": [
        "wd = 1e-3\n",
        "y_range = (-3.,3.)\n",
        "loss = MSELossFlat()"
      ],
      "execution_count": 0,
      "outputs": []
    },
    {
      "cell_type": "code",
      "metadata": {
        "id": "giXXiKTKCrq8",
        "colab_type": "code",
        "colab": {}
      },
      "source": [
        "arch = resnet34\n",
        "\n",
        "#Changed Resnet to accept 1 channel - ok"
      ],
      "execution_count": 0,
      "outputs": []
    },
    {
      "cell_type": "code",
      "metadata": {
        "id": "62pdu-nwGk66",
        "colab_type": "code",
        "colab": {}
      },
      "source": [
        "def create_gen_learner():\n",
        "  return unet_learner(data_gen,\n",
        "                     arch,\n",
        "                     wd = wd,\n",
        "                     blur = True,\n",
        "                     norm_type = NormType.Weight,\n",
        "                     self_attention = True,\n",
        "                     y_range = y_range,\n",
        "                     loss_func = loss,\n",
        "                     pretrained = False)\n",
        "\n"
      ],
      "execution_count": 0,
      "outputs": []
    },
    {
      "cell_type": "code",
      "metadata": {
        "id": "mroDFa-Rb0fQ",
        "colab_type": "code",
        "colab": {}
      },
      "source": [
        "learn_gen = create_gen_learner()"
      ],
      "execution_count": 0,
      "outputs": []
    },
    {
      "cell_type": "code",
      "metadata": {
        "id": "FI2M1uxQgt22",
        "colab_type": "code",
        "colab": {}
      },
      "source": [
        "learn_gen.fit(15,10e-4)"
      ],
      "execution_count": 0,
      "outputs": []
    },
    {
      "cell_type": "code",
      "metadata": {
        "id": "mG70pQ5MRpis",
        "colab_type": "code",
        "colab": {}
      },
      "source": [
        "learn_gen.save('gen_pre2')"
      ],
      "execution_count": 0,
      "outputs": []
    },
    {
      "cell_type": "code",
      "metadata": {
        "id": "R9lMa3ictB3U",
        "colab_type": "code",
        "colab": {}
      },
      "source": [
        ""
      ],
      "execution_count": 0,
      "outputs": []
    },
    {
      "cell_type": "code",
      "metadata": {
        "id": "I1tWniODR9RB",
        "colab_type": "code",
        "colab": {}
      },
      "source": [
        ""
      ],
      "execution_count": 0,
      "outputs": []
    },
    {
      "cell_type": "markdown",
      "metadata": {
        "id": "xQUiKOcmR-e7",
        "colab_type": "text"
      },
      "source": [
        "# Saving Generated Images"
      ]
    },
    {
      "cell_type": "code",
      "metadata": {
        "id": "Fe-eFHOjSCnk",
        "colab_type": "code",
        "colab": {}
      },
      "source": [
        "learn_gen.load('gen_pre2');"
      ],
      "execution_count": 0,
      "outputs": []
    },
    {
      "cell_type": "code",
      "metadata": {
        "id": "tQM9aSByT6Sa",
        "colab_type": "code",
        "colab": {}
      },
      "source": [
        "name_gen = 'image_gen'\n",
        "path_gen = path/name_gen\n",
        "#path_gen = gdrive_path/name_gen"
      ],
      "execution_count": 0,
      "outputs": []
    },
    {
      "cell_type": "code",
      "metadata": {
        "id": "15kqqJk2UqG7",
        "colab_type": "code",
        "colab": {}
      },
      "source": [
        "path_gen.mkdir(exist_ok = True)"
      ],
      "execution_count": 0,
      "outputs": []
    },
    {
      "cell_type": "code",
      "metadata": {
        "id": "WTXDv7M1UxAz",
        "colab_type": "code",
        "colab": {}
      },
      "source": [
        "def save_gen(dl):\n",
        "  i = 0\n",
        "  names = dl.dataset.items\n",
        "  \n",
        "  for b in dl:\n",
        "    preds = learn_gen.pred_batch(batch = b, reconstruct = True)\n",
        "    for o in preds:\n",
        "      o.save(path_gen/names[i].name)\n",
        "      i += 1"
      ],
      "execution_count": 0,
      "outputs": []
    },
    {
      "cell_type": "code",
      "metadata": {
        "id": "tK6k6fEzVfXF",
        "colab_type": "code",
        "colab": {}
      },
      "source": [
        "save_gen(data_gen.fix_dl)"
      ],
      "execution_count": 0,
      "outputs": []
    },
    {
      "cell_type": "code",
      "metadata": {
        "id": "L-flkKACVlhx",
        "colab_type": "code",
        "colab": {}
      },
      "source": [
        "PIL.Image.open(path_gen.ls()[0]).size"
      ],
      "execution_count": 0,
      "outputs": []
    },
    {
      "cell_type": "code",
      "metadata": {
        "id": "Zn82BX-3JA0u",
        "colab_type": "code",
        "colab": {}
      },
      "source": [
        "PIL.Image.open(path_hr.ls()[0]).size"
      ],
      "execution_count": 0,
      "outputs": []
    },
    {
      "cell_type": "code",
      "metadata": {
        "id": "xMuzwwSdJI7a",
        "colab_type": "code",
        "colab": {}
      },
      "source": [
        "PIL.Image.open(path_lr.ls()[0]).size"
      ],
      "execution_count": 0,
      "outputs": []
    },
    {
      "cell_type": "markdown",
      "metadata": {
        "id": "fOGOtJzrW4Kf",
        "colab_type": "text"
      },
      "source": [
        "# Training Critic"
      ]
    },
    {
      "cell_type": "code",
      "metadata": {
        "id": "FK1a4XN_YKig",
        "colab_type": "code",
        "colab": {}
      },
      "source": [
        "import pdb"
      ],
      "execution_count": 0,
      "outputs": []
    },
    {
      "cell_type": "code",
      "metadata": {
        "id": "pfTyiOK0V4mS",
        "colab_type": "code",
        "colab": {}
      },
      "source": [
        "learn_gen = None\n",
        "gc.collect()"
      ],
      "execution_count": 0,
      "outputs": []
    },
    {
      "cell_type": "code",
      "metadata": {
        "id": "dc_xJlP5XFtA",
        "colab_type": "code",
        "colab": {}
      },
      "source": [
        "def get_crit_data(classes, bs, size):\n",
        "  src = ImageList.from_folder(path, include = classes, convert_mode = 'I' ).split_by_rand_pct(0.1, seed = 42)\n",
        "  ll = src.label_from_folder(classes = classes)\n",
        "  data = (ll.transform(get_transforms(max_zoom = 2.), size = size).databunch(bs = bs).normalize(([0.485],[0.229]))) #(imagenet_stats)\n",
        "  data.c = 1\n",
        "  return data"
      ],
      "execution_count": 0,
      "outputs": []
    },
    {
      "cell_type": "code",
      "metadata": {
        "id": "vPXU-FvT1qw-",
        "colab_type": "code",
        "colab": {}
      },
      "source": [
        "imagenet_stats"
      ],
      "execution_count": 0,
      "outputs": []
    },
    {
      "cell_type": "code",
      "metadata": {
        "id": "6HwA58UWYl6C",
        "colab_type": "code",
        "colab": {}
      },
      "source": [
        "data_crit = get_crit_data([name_gen, 'image'], bs = bs, size = size)"
      ],
      "execution_count": 0,
      "outputs": []
    },
    {
      "cell_type": "code",
      "metadata": {
        "id": "jMECGgAbZcxU",
        "colab_type": "code",
        "colab": {}
      },
      "source": [
        "loss_critic = AdaptiveLoss(nn.BCEWithLogitsLoss())\n",
        "#loss_critic = nn.BCEWithLogitsLoss()"
      ],
      "execution_count": 0,
      "outputs": []
    },
    {
      "cell_type": "code",
      "metadata": {
        "id": "TvmEjOcaFVqz",
        "colab_type": "code",
        "colab": {}
      },
      "source": [
        "loss_critic"
      ],
      "execution_count": 0,
      "outputs": []
    },
    {
      "cell_type": "code",
      "metadata": {
        "id": "tWUmxg4GG9SN",
        "colab_type": "code",
        "colab": {}
      },
      "source": [
        "_conv_args = dict(leaky=0.2, norm_type=NormType.Spectral)\n",
        "\n",
        "def _conv(ni:int, nf:int, ks:int=3, stride:int=1, **kwargs):\n",
        "    return conv_layer(ni, nf, ks=ks, stride=stride, **_conv_args, **kwargs)\n",
        "\n",
        "\n",
        "def gan_critic(n_channels:int=3, nf:int=128, n_blocks:int=3, p:int=0.15):\n",
        "    \"Critic to train a `GAN`.\"\n",
        "    layers = [\n",
        "        _conv(n_channels, nf, ks=4, stride=2),\n",
        "        nn.Dropout2d(p/2),\n",
        "        res_block(nf, dense=True,**_conv_args)]\n",
        "    nf *= 2 # after dense block\n",
        "    for i in range(n_blocks):\n",
        "        layers += [\n",
        "            nn.Dropout2d(p),\n",
        "            _conv(nf, nf*2, ks=4, stride=2, self_attention=(i==0))]\n",
        "        nf *= 2\n",
        "    layers += [\n",
        "        _conv(nf, 1, ks=3, bias=False, padding=0, use_activ=False),\n",
        "        Flatten()]\n",
        "    return nn.Sequential(*layers)"
      ],
      "execution_count": 0,
      "outputs": []
    },
    {
      "cell_type": "code",
      "metadata": {
        "id": "HxvCWmPRZwnq",
        "colab_type": "code",
        "colab": {}
      },
      "source": [
        "def create_crit_learner(data, metrics):\n",
        "  return Learner(data, gan_critic(n_channels = 1), metrics = metrics, loss_func = loss_critic, wd = wd)"
      ],
      "execution_count": 0,
      "outputs": []
    },
    {
      "cell_type": "code",
      "metadata": {
        "id": "mihiwB3kaare",
        "colab_type": "code",
        "colab": {}
      },
      "source": [
        "learn_critic = create_crit_learner(data_crit, accuracy_thresh_expand) \n",
        "#learn_critic = create_crit_learner(data_crit, mean_absolute_error)"
      ],
      "execution_count": 0,
      "outputs": []
    },
    {
      "cell_type": "code",
      "metadata": {
        "id": "SghqT-dcgkSu",
        "colab_type": "code",
        "colab": {}
      },
      "source": [
        "learn_critic.fit(15,10e-4)"
      ],
      "execution_count": 0,
      "outputs": []
    },
    {
      "cell_type": "markdown",
      "metadata": {
        "id": "Xxhg3aAgwOPs",
        "colab_type": "text"
      },
      "source": [
        "Check Gan_critic() structure - last layer with wrong dimensions"
      ]
    },
    {
      "cell_type": "code",
      "metadata": {
        "id": "hRasGD3OdBCM",
        "colab_type": "code",
        "colab": {}
      },
      "source": [
        "learn_critic.save('critic-pre2')"
      ],
      "execution_count": 0,
      "outputs": []
    },
    {
      "cell_type": "markdown",
      "metadata": {
        "id": "TNkGVRQrjNRv",
        "colab_type": "text"
      },
      "source": [
        "# GAN"
      ]
    },
    {
      "cell_type": "markdown",
      "metadata": {
        "id": "KUOXo004jPzW",
        "colab_type": "text"
      },
      "source": [
        "Now we combine the models into a GAN"
      ]
    },
    {
      "cell_type": "code",
      "metadata": {
        "id": "wfYG1hEOjPDR",
        "colab_type": "code",
        "colab": {}
      },
      "source": [
        "learn_crit = None\n",
        "learn_gen = None\n",
        "gc.collect()"
      ],
      "execution_count": 0,
      "outputs": []
    },
    {
      "cell_type": "code",
      "metadata": {
        "id": "HjnPRHTDovkS",
        "colab_type": "code",
        "colab": {}
      },
      "source": [
        "bs,size = 15,100\n"
      ],
      "execution_count": 0,
      "outputs": []
    },
    {
      "cell_type": "code",
      "metadata": {
        "id": "_nJx_QJnjanG",
        "colab_type": "code",
        "colab": {}
      },
      "source": [
        "data_crit = get_crit_data([name_gen, 'image'], bs = bs, size = size)"
      ],
      "execution_count": 0,
      "outputs": []
    },
    {
      "cell_type": "code",
      "metadata": {
        "id": "jTOAnu-Sj_Rf",
        "colab_type": "code",
        "colab": {}
      },
      "source": [
        "learn_crit = create_crit_learner(data_crit, accuracy_thresh_expand).load(gdrive_path/'gan-crit')\n",
        "#learn_crit = create_crit_learner(data_crit, metrics = None).load('critic-pre2')"
      ],
      "execution_count": 0,
      "outputs": []
    },
    {
      "cell_type": "code",
      "metadata": {
        "id": "HVMDQvkEkM8Z",
        "colab_type": "code",
        "colab": {}
      },
      "source": [
        "learn_gen = create_gen_learner().load(gdrive_path/'gan-gen')\n",
        "#learn_gen = create_gen_learner().load('gen_pre2')"
      ],
      "execution_count": 0,
      "outputs": []
    },
    {
      "cell_type": "code",
      "metadata": {
        "id": "g_ZJijWQkv0N",
        "colab_type": "code",
        "colab": {}
      },
      "source": [
        "switcher = partial(FixedGANSwitcher, n_crit = 10 , n_gen = 40)\n",
        "#switcher = partial(AdaptiveGANSwitcher, gen_thresh = 2 , critic_thresh = 0.9)\n",
        "\n",
        "learn = GANLearner.from_learners(learn_gen, learn_crit, weights_gen=(1., 50.), show_img = False, switcher = switcher, \n",
        "                                 opt_func = partial(optim.Adam, betas=(0.,0.99)), wd = wd)\n",
        "\n",
        "learn.callback_fns.append(partial(GANDiscriminativeLR, mult_lr = 5.))"
      ],
      "execution_count": 0,
      "outputs": []
    },
    {
      "cell_type": "code",
      "metadata": {
        "id": "7bcNUBrYmS9-",
        "colab_type": "code",
        "colab": {}
      },
      "source": [
        "lr = 1e-5"
      ],
      "execution_count": 0,
      "outputs": []
    },
    {
      "cell_type": "code",
      "metadata": {
        "id": "EmpgzBR8Yumr",
        "colab_type": "code",
        "colab": {}
      },
      "source": [
        "#learn_gen.unfreeze()"
      ],
      "execution_count": 0,
      "outputs": []
    },
    {
      "cell_type": "code",
      "metadata": {
        "id": "p6FXuJLnmaA1",
        "colab_type": "code",
        "colab": {}
      },
      "source": [
        "learn.fit(5,lr)"
      ],
      "execution_count": 0,
      "outputs": []
    },
    {
      "cell_type": "code",
      "metadata": {
        "id": "EQN5L5ZukU_b",
        "colab_type": "code",
        "colab": {}
      },
      "source": [
        "learn_crit.save(gdrive_path/'gan-crit')\n",
        "learn_gen.save(gdrive_path/'gan-gen')"
      ],
      "execution_count": 0,
      "outputs": []
    },
    {
      "cell_type": "code",
      "metadata": {
        "id": "y8BVl5kxm2GG",
        "colab_type": "code",
        "colab": {}
      },
      "source": [
        "learn.data = get_data(16,192)"
      ],
      "execution_count": 0,
      "outputs": []
    },
    {
      "cell_type": "code",
      "metadata": {
        "id": "7bcdhO3cm6fc",
        "colab_type": "code",
        "colab": {}
      },
      "source": [
        "learn.fit(10,lr/2)"
      ],
      "execution_count": 0,
      "outputs": []
    },
    {
      "cell_type": "code",
      "metadata": {
        "id": "VAg0zuQ-m_lH",
        "colab_type": "code",
        "colab": {}
      },
      "source": [
        "learn.show_results(rows = 5)"
      ],
      "execution_count": 0,
      "outputs": []
    },
    {
      "cell_type": "code",
      "metadata": {
        "id": "Trng_6LPHfNM",
        "colab_type": "code",
        "colab": {}
      },
      "source": [
        "data_gen"
      ],
      "execution_count": 0,
      "outputs": []
    },
    {
      "cell_type": "code",
      "metadata": {
        "id": "UpCwPQtAnSXH",
        "colab_type": "code",
        "colab": {}
      },
      "source": [
        "learn.save('gan-lc')"
      ],
      "execution_count": 0,
      "outputs": []
    },
    {
      "cell_type": "code",
      "metadata": {
        "id": "7k1QpBZKtXFO",
        "colab_type": "code",
        "colab": {}
      },
      "source": [
        "def save_to_gdrive(dl):\n",
        "  i = 0\n",
        "  names = dl.dataset.items\n",
        "  \n",
        "  for b in dl:\n",
        "    preds = learn_gen.pred_batch(batch = b, reconstruct = True)\n",
        "    for o in preds:\n",
        "      o.save(gdrive_path/name_gen/names[i].name)\n",
        "      i += 1"
      ],
      "execution_count": 0,
      "outputs": []
    },
    {
      "cell_type": "code",
      "metadata": {
        "id": "XrSkTs9ItfLh",
        "colab_type": "code",
        "colab": {}
      },
      "source": [
        "save_to_gdrive(data_gen.fix_dl)"
      ],
      "execution_count": 0,
      "outputs": []
    },
    {
      "cell_type": "markdown",
      "metadata": {
        "id": "r0_nAjQWnklW",
        "colab_type": "text"
      },
      "source": [
        "#Fin"
      ]
    },
    {
      "cell_type": "code",
      "metadata": {
        "id": "0ZnndR5Bnmy2",
        "colab_type": "code",
        "colab": {}
      },
      "source": [
        ""
      ],
      "execution_count": 0,
      "outputs": []
    }
  ]
}